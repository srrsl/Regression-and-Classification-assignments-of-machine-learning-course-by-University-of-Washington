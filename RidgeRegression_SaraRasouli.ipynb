{
 "cells": [
  {
   "cell_type": "code",
   "execution_count": 97,
   "metadata": {},
   "outputs": [],
   "source": [
    "import matplotlib.pyplot as plt\n",
    "import numpy as np\n",
    "import pandas as pd\n",
    "\n",
    "%matplotlib inline\n",
    "\n",
    "from sklearn.model_selection import train_test_split\n",
    "from sklearn.linear_model import Ridge, RidgeCV, Lasso, LassoCV\n",
    "from sklearn.metrics import r2_score\n",
    "from sklearn.metrics import mean_squared_error\n",
    "from sklearn.preprocessing import scale "
   ]
  },
  {
   "cell_type": "code",
   "execution_count": 98,
   "metadata": {},
   "outputs": [],
   "source": [
    "sales = pd.read_csv('wk3_kc_house_test_data.csv')\n",
    "X_test = sales['sqft_living']\n",
    "y_test = sales['price']"
   ]
  },
  {
   "cell_type": "code",
   "execution_count": 99,
   "metadata": {},
   "outputs": [
    {
     "name": "stdout",
     "output_type": "stream",
     "text": [
      "[[293.61318695]]\n",
      "\n",
      "MSE =  64280941979.51311\n"
     ]
    }
   ],
   "source": [
    "# Ridge regression with alpha value of 1.5e-5 on first set \n",
    "set_1 = pd.read_csv('wk3_kc_house_set_1_data.csv')\n",
    "x_train_set_1 = set_1['sqft_living']\n",
    "y_train_set_1 = set_1['price']\n",
    "\n",
    "ridge = Ridge(normalize = True)\n",
    "\n",
    "ridge.set_params(alpha = 1.5e-5)\n",
    "ridge.fit(x_train_set_1.values.reshape(-1,1), y_train_set_1.values.reshape(-1,1))\n",
    "coefs_set_1 = ridge.coef_\n",
    "\n",
    "# The coefficient on first set will be as below \n",
    "print(coefs_set_1)\n",
    "\n",
    "#error calculation\n",
    "pred2 = ridge.predict(X_test.values.reshape(-1,1))\n",
    "print(\"\\nMSE = \",mean_squared_error(y_test, pred2))  "
   ]
  },
  {
   "cell_type": "code",
   "execution_count": 100,
   "metadata": {},
   "outputs": [
    {
     "name": "stdout",
     "output_type": "stream",
     "text": [
      "[[266.99015515]]\n",
      "\n",
      "MSE =  64383381290.96651\n"
     ]
    }
   ],
   "source": [
    "# Ridge regression with alpha value of 1.5e-5 on 2nd set \n",
    "set_2 = pd.read_csv('wk3_kc_house_set_2_data.csv')\n",
    "x_train_set_2 = set_2['sqft_living']\n",
    "y_train_set_2 = set_2['price']\n",
    "\n",
    "ridge = Ridge(normalize = True)\n",
    "\n",
    "ridge.set_params(alpha = 1.5e-5)\n",
    "ridge.fit(x_train_set_2.values.reshape(-1,1), y_train_set_2.values.reshape(-1,1))\n",
    "coefs_set_2 = ridge.coef_\n",
    "    \n",
    "# The coefficient on 2nd set will be as below \n",
    "print(coefs_set_2)\n",
    "\n",
    "#error calculation\n",
    "pred2 = ridge.predict(X_test.values.reshape(-1,1))\n",
    "print(\"\\nMSE = \",mean_squared_error(y_test, pred2)) "
   ]
  },
  {
   "cell_type": "code",
   "execution_count": 101,
   "metadata": {},
   "outputs": [
    {
     "name": "stdout",
     "output_type": "stream",
     "text": [
      "[[292.20743799]]\n",
      "\n",
      "MSE =  64383381290.96651\n"
     ]
    }
   ],
   "source": [
    "# Ridge regression with alpha value of 1.5e-5 on 3rd set \n",
    "set_3 = pd.read_csv('wk3_kc_house_set_3_data.csv')\n",
    "x_train_set_3 = set_3['sqft_living']\n",
    "y_train_set_3 = set_3['price']\n",
    "\n",
    "ridge = Ridge(normalize = True)\n",
    "\n",
    "ridge.set_params(alpha = 1.5e-5)\n",
    "ridge.fit(x_train_set_3.values.reshape(-1,1), y_train_set_3.values.reshape(-1,1))\n",
    "coefs_set_3 = ridge.coef_\n",
    "    \n",
    "# The coefficient on 3rd set will be as below \n",
    "print(coefs_set_3)\n",
    "\n",
    "#error calculation\n",
    "print(\"\\nMSE = \",mean_squared_error(y_test, pred2)) "
   ]
  },
  {
   "cell_type": "code",
   "execution_count": 102,
   "metadata": {},
   "outputs": [
    {
     "name": "stdout",
     "output_type": "stream",
     "text": [
      "[[266.32970046]]\n",
      "\n",
      "MSE =  64406143015.32575\n"
     ]
    }
   ],
   "source": [
    "# Ridge regression with alpha value of 1.5e-5 on 4th set \n",
    "set_4 = pd.read_csv('wk3_kc_house_set_4_data.csv')\n",
    "x_train_set_4 = set_4['sqft_living']\n",
    "y_train_set_4 = set_4['price']\n",
    "\n",
    "ridge = Ridge(normalize = True)\n",
    "\n",
    "ridge.set_params(alpha = 1.5e-5)\n",
    "ridge.fit(x_train_set_4.values.reshape(-1,1), y_train_set_4.values.reshape(-1,1))\n",
    "coefs_set_4 = ridge.coef_\n",
    "   \n",
    "# The coefficient on 4th set will be as below \n",
    "print(coefs_set_4)\n",
    "\n",
    "#error calculation\n",
    "pred2 = ridge.predict(X_test.values.reshape(-1,1))\n",
    "print(\"\\nMSE = \",mean_squared_error(y_test, pred2)) "
   ]
  },
  {
   "cell_type": "code",
   "execution_count": 103,
   "metadata": {},
   "outputs": [
    {
     "name": "stdout",
     "output_type": "stream",
     "text": [
      "coefs_set_1 has largest values\n"
     ]
    }
   ],
   "source": [
    "if(max(coefs_set_1, coefs_set_2, coefs_set_3, coefs_set_4) == coefs_set_1):\n",
    "    print(\"coefs_set_1 has largest values\")\n",
    "elif(max(coefs_set_1, coefs_set_2, coefs_set_3, coefs_set_4) == coefs_set_2):\n",
    "    print(\"coefs_set_2 has largest values\")\n",
    "elif(max(coefs_set_1, coefs_set_2, coefs_set_3, coefs_set_4) == coefs_set_3):\n",
    "    print(\"coefs_set_3 has largest values\")\n",
    "else :\n",
    "    print(\"coefs_set_4 has largest values\")"
   ]
  },
  {
   "cell_type": "code",
   "execution_count": 104,
   "metadata": {},
   "outputs": [
    {
     "name": "stdout",
     "output_type": "stream",
     "text": [
      "coefs_set_4 has smallest values\n"
     ]
    }
   ],
   "source": [
    "if(min(coefs_set_1, coefs_set_2, coefs_set_3, coefs_set_4) == coefs_set_1):\n",
    "    print(\"coefs_set_1 has smallest values\")\n",
    "elif(min(coefs_set_1, coefs_set_2, coefs_set_3, coefs_set_4) == coefs_set_2):\n",
    "    print(\"coefs_set_2 has smallest values\")\n",
    "elif(min(coefs_set_1, coefs_set_2, coefs_set_3, coefs_set_4) == coefs_set_3):\n",
    "    print(\"coefs_set_3 has smallest values\")\n",
    "else :\n",
    "    print(\"coefs_set_4 has smallest values\")"
   ]
  },
  {
   "cell_type": "markdown",
   "metadata": {},
   "source": [
    "Now calculate cross validation in each sets"
   ]
  },
  {
   "cell_type": "code",
   "execution_count": 105,
   "metadata": {},
   "outputs": [
    {
     "data": {
      "text/plain": [
       "0.5310777588676552"
      ]
     },
     "execution_count": 105,
     "metadata": {},
     "output_type": "execute_result"
    }
   ],
   "source": [
    "clf = RidgeCV(alphas=np.logspace(1, 7, num=13)).fit(x_train_set_1.values.reshape(-1,1), y_train_set_1.values.reshape(-1,1))\n",
    "clf.score(x_train_set_1.values.reshape(-1,1), y_train_set_1.values.reshape(-1,1))"
   ]
  },
  {
   "cell_type": "code",
   "execution_count": 106,
   "metadata": {},
   "outputs": [
    {
     "data": {
      "text/plain": [
       "0.491322395294809"
      ]
     },
     "execution_count": 106,
     "metadata": {},
     "output_type": "execute_result"
    }
   ],
   "source": [
    "clf = RidgeCV(alphas=np.logspace(1, 7, num=13)).fit(x_train_set_2.values.reshape(-1,1), y_train_set_2.values.reshape(-1,1))\n",
    "clf.score(x_train_set_2.values.reshape(-1,1), y_train_set_2.values.reshape(-1,1))"
   ]
  },
  {
   "cell_type": "code",
   "execution_count": 107,
   "metadata": {},
   "outputs": [
    {
     "data": {
      "text/plain": [
       "0.48976435083873765"
      ]
     },
     "execution_count": 107,
     "metadata": {},
     "output_type": "execute_result"
    }
   ],
   "source": [
    "clf = RidgeCV(alphas=np.logspace(1, 7, num=13)).fit(x_train_set_3.values.reshape(-1,1), y_train_set_3.values.reshape(-1,1))\n",
    "clf.score(x_train_set_3.values.reshape(-1,1), y_train_set_3.values.reshape(-1,1))"
   ]
  },
  {
   "cell_type": "code",
   "execution_count": 108,
   "metadata": {},
   "outputs": [
    {
     "data": {
      "text/plain": [
       "0.45378932033549774"
      ]
     },
     "execution_count": 108,
     "metadata": {},
     "output_type": "execute_result"
    }
   ],
   "source": [
    "clf = RidgeCV(alphas=np.logspace(1, 7, num=13)).fit(x_train_set_4.values.reshape(-1,1), y_train_set_4.values.reshape(-1,1))\n",
    "clf.score(x_train_set_4.values.reshape(-1,1), y_train_set_4.values.reshape(-1,1))"
   ]
  },
  {
   "cell_type": "code",
   "execution_count": null,
   "metadata": {},
   "outputs": [],
   "source": []
  },
  {
   "cell_type": "code",
   "execution_count": null,
   "metadata": {},
   "outputs": [],
   "source": []
  },
  {
   "cell_type": "markdown",
   "metadata": {},
   "source": [
    "Now Ridge regression using gradient descent (Assignment 2)"
   ]
  },
  {
   "cell_type": "code",
   "execution_count": 109,
   "metadata": {},
   "outputs": [],
   "source": [
    "def feature_derivative_ridge(errors, feature, weight, l2_penalty, feature_is_constant):\n",
    "    # If feature_is_constant is True, derivative is twice the dot product of errors and feature\n",
    "    if feature_is_constant == True:\n",
    "        derivative = np.dot(errors,feature) * 2\n",
    "    # Otherwise, derivative is twice the dot product plus 2*l2_penalty*weight\n",
    "    elif feature_is_constant == False:\n",
    "        derivative = np.dot(errors,feature) * 2 + 2*l2_penalty*weight\n",
    "    else:\n",
    "        derivative = 'derivative not exist!!!'\n",
    "    return derivative"
   ]
  },
  {
   "cell_type": "code",
   "execution_count": 110,
   "metadata": {},
   "outputs": [],
   "source": [
    "def predict_output(feature_matrix, weights):\n",
    "    # assume feature_matrix is a numpy matrix containing the features as columns and weights is a corresponding numpy array\n",
    "    # create the predictions vector by using np.dot()\n",
    "    predictions = np.dot(feature_matrix,weights)\n",
    "    return(predictions)"
   ]
  },
  {
   "cell_type": "code",
   "execution_count": 111,
   "metadata": {},
   "outputs": [],
   "source": [
    "def get_numpy_data(data_sframe, features, output):\n",
    "    data_sframe['constant'] = 1 \n",
    "    features = ['constant'] + features \n",
    "    features_sframe = data_sframe[features]\n",
    "    feature_matrix = features_sframe.to_numpy()\n",
    "    \n",
    "    output_sarray = data_sframe[output]\n",
    "    output_array = output_sarray.to_numpy()\n",
    "    \n",
    "    return(feature_matrix, output_array)"
   ]
  },
  {
   "cell_type": "code",
   "execution_count": 112,
   "metadata": {},
   "outputs": [],
   "source": [
    "def ridge_regression_gradient_descent(feature_matrix, output, initial_weights, step_size, l2_penalty, max_iterations=100):\n",
    "    print ('Start with l2_penalty = ' + str(l2_penalty))\n",
    "    \n",
    "    weights = np.array(initial_weights) \n",
    "    iteration = 0\n",
    "    print_frequency = 1  \n",
    "    \n",
    "    while iteration < max_iterations:\n",
    "        iteration += 1  \n",
    "        \n",
    "        if iteration == 10:\n",
    "            print_frequency = 10\n",
    "        if iteration == 100:\n",
    "            print_frequency = 100\n",
    "        if iteration%print_frequency==0:\n",
    "            print('Iteration = ' + str(iteration))\n",
    "       \n",
    "        predictions = predict_output(feature_matrix,weights)\n",
    "        errors = predictions - output\n",
    "        if iteration%print_frequency==0:\n",
    "            print ('Cost function = ', str(np.dot(errors,errors) + l2_penalty*(np.dot(weights,weights) - weights[0]**2)))\n",
    "        \n",
    "        for i in range(len(weights)):\n",
    "            if i ==0:\n",
    "                derivative = feature_derivative_ridge(errors, feature_matrix[:,i], weights[i], l2_penalty, True)\n",
    "            else:\n",
    "                derivative = feature_derivative_ridge(errors, feature_matrix[:,i], weights[i], l2_penalty, False)\n",
    "            weights[i] = weights[i] - step_size * derivative\n",
    "    print ('Done with gradient descent at iteration ', iteration)\n",
    "    print ('Learned weights = ', str(weights))\n",
    "    return weights"
   ]
  },
  {
   "cell_type": "code",
   "execution_count": 113,
   "metadata": {},
   "outputs": [
    {
     "name": "stderr",
     "output_type": "stream",
     "text": [
      "/usr/local/lib/python3.5/dist-packages/ipykernel_launcher.py:2: SettingWithCopyWarning: \n",
      "A value is trying to be set on a copy of a slice from a DataFrame.\n",
      "Try using .loc[row_indexer,col_indexer] = value instead\n",
      "\n",
      "See the caveats in the documentation: http://pandas.pydata.org/pandas-docs/stable/indexing.html#indexing-view-versus-copy\n",
      "  \n"
     ]
    }
   ],
   "source": [
    "simple_features = ['sqft_living']\n",
    "my_output = 'price'\n",
    "\n",
    "sales = pd.read_csv('kc_house_data.csv')\n",
    "x = sales['sqft_living']\n",
    "y = sales['price']\n",
    "\n",
    "train_data, test_data = train_test_split(sales, test_size=0.2)\n",
    "\n",
    "(simple_feature_matrix, output) = get_numpy_data(train_data, simple_features, my_output)\n",
    "(simple_test_feature_matrix, test_output) = get_numpy_data(test_data, simple_features, my_output)"
   ]
  },
  {
   "cell_type": "code",
   "execution_count": 114,
   "metadata": {},
   "outputs": [],
   "source": [
    "initial_weights = np.array([0., 0.])\n",
    "step_size = 1e-12\n",
    "max_iterations=1000"
   ]
  },
  {
   "cell_type": "code",
   "execution_count": 115,
   "metadata": {},
   "outputs": [
    {
     "name": "stdout",
     "output_type": "stream",
     "text": [
      "Start with l2_penalty = 0\n",
      "Iteration = 1\n",
      "Cost function =  7295932327818783.0\n",
      "Iteration = 2\n",
      "Cost function =  5295705146721276.0\n",
      "Iteration = 3\n",
      "Cost function =  3946502758963948.5\n",
      "Iteration = 4\n",
      "Cost function =  3036432592763897.5\n",
      "Iteration = 5\n",
      "Cost function =  2422567901351448.0\n",
      "Iteration = 6\n",
      "Cost function =  2008501081712126.8\n",
      "Iteration = 7\n",
      "Cost function =  1729202836467641.2\n",
      "Iteration = 8\n",
      "Cost function =  1540809306489795.0\n",
      "Iteration = 9\n",
      "Cost function =  1413733240874956.8\n",
      "Iteration = 10\n",
      "Cost function =  1328017311803976.8\n",
      "Iteration = 20\n",
      "Cost function =  1153840699697181.0\n",
      "Iteration = 30\n",
      "Cost function =  1150444699879508.2\n",
      "Iteration = 40\n",
      "Cost function =  1150378486125085.0\n",
      "Iteration = 50\n",
      "Cost function =  1150377194700418.0\n",
      "Iteration = 60\n",
      "Cost function =  1150377169095482.5\n",
      "Iteration = 70\n",
      "Cost function =  1150377168170801.0\n",
      "Iteration = 80\n",
      "Cost function =  1150377167727322.0\n",
      "Iteration = 90\n",
      "Cost function =  1150377167293224.5\n",
      "Iteration = 100\n",
      "Cost function =  1150377166859310.5\n",
      "Iteration = 200\n",
      "Cost function =  1150377162520208.8\n",
      "Iteration = 300\n",
      "Cost function =  1150377158181111.5\n",
      "Iteration = 400\n",
      "Cost function =  1150377153842019.5\n",
      "Iteration = 500\n",
      "Cost function =  1150377149502932.0\n",
      "Iteration = 600\n",
      "Cost function =  1150377145163850.0\n",
      "Iteration = 700\n",
      "Cost function =  1150377140824772.5\n",
      "Iteration = 800\n",
      "Cost function =  1150377136485700.5\n",
      "Iteration = 900\n",
      "Cost function =  1150377132146632.2\n",
      "Iteration = 1000\n",
      "Cost function =  1150377127807569.8\n",
      "Done with gradient descent at iteration  1000\n",
      "Learned weights =  [-1.02727646e-01  2.62256730e+02]\n"
     ]
    }
   ],
   "source": [
    "simple_weights_0_penalty = ridge_regression_gradient_descent(simple_feature_matrix, output, initial_weights, step_size, 0, max_iterations)"
   ]
  },
  {
   "cell_type": "code",
   "execution_count": 116,
   "metadata": {},
   "outputs": [
    {
     "name": "stdout",
     "output_type": "stream",
     "text": [
      "Start with l2_penalty = 100000000000.0\n",
      "Iteration = 1\n",
      "Cost function =  7295932327818783.0\n",
      "Iteration = 2\n",
      "Cost function =  5515354074285989.0\n",
      "Iteration = 3\n",
      "Cost function =  4828038678725884.0\n",
      "Iteration = 4\n",
      "Cost function =  4562730194853791.0\n",
      "Iteration = 5\n",
      "Cost function =  4460319254069094.0\n",
      "Iteration = 6\n",
      "Cost function =  4420787874753590.0\n",
      "Iteration = 7\n",
      "Cost function =  4405528434570017.0\n",
      "Iteration = 8\n",
      "Cost function =  4399638128258549.5\n",
      "Iteration = 9\n",
      "Cost function =  4397364371454575.5\n",
      "Iteration = 10\n",
      "Cost function =  4396486627400416.0\n",
      "Iteration = 20\n",
      "Cost function =  4395933953627753.0\n",
      "Iteration = 30\n",
      "Cost function =  4395932961363338.5\n",
      "Iteration = 40\n",
      "Cost function =  4395932009616401.5\n",
      "Iteration = 50\n",
      "Cost function =  4395931057872838.0\n",
      "Iteration = 60\n",
      "Cost function =  4395930106129674.0\n",
      "Iteration = 70\n",
      "Cost function =  4395929154386907.0\n",
      "Iteration = 80\n",
      "Cost function =  4395928202644537.5\n",
      "Iteration = 90\n",
      "Cost function =  4395927250902566.0\n",
      "Iteration = 100\n",
      "Cost function =  4395926299160994.0\n",
      "Iteration = 200\n",
      "Cost function =  4395916781767161.5\n",
      "Iteration = 300\n",
      "Cost function =  4395907264413137.0\n",
      "Iteration = 400\n",
      "Cost function =  4395897747098920.5\n",
      "Iteration = 500\n",
      "Cost function =  4395888229824512.0\n",
      "Iteration = 600\n",
      "Cost function =  4395878712589912.0\n",
      "Iteration = 700\n",
      "Cost function =  4395869195395118.0\n",
      "Iteration = 800\n",
      "Cost function =  4395859678240132.0\n",
      "Iteration = 900\n",
      "Cost function =  4395850161124954.0\n",
      "Iteration = 1000\n",
      "Cost function =  4395840644049581.0\n",
      "Done with gradient descent at iteration  1000\n",
      "Learned weights =  [  9.77915081 123.75319075]\n"
     ]
    }
   ],
   "source": [
    "simple_weights_high_penalty = ridge_regression_gradient_descent(simple_feature_matrix, output, initial_weights, step_size, 1e11, max_iterations)"
   ]
  },
  {
   "cell_type": "code",
   "execution_count": 117,
   "metadata": {},
   "outputs": [
    {
     "data": {
      "text/plain": [
       "[<matplotlib.lines.Line2D at 0x7fc352237320>,\n",
       " <matplotlib.lines.Line2D at 0x7fc3522374a8>,\n",
       " <matplotlib.lines.Line2D at 0x7fc3522375f8>,\n",
       " <matplotlib.lines.Line2D at 0x7fc352237b70>,\n",
       " <matplotlib.lines.Line2D at 0x7fc352237cc0>,\n",
       " <matplotlib.lines.Line2D at 0x7fc35223b240>]"
      ]
     },
     "execution_count": 117,
     "metadata": {},
     "output_type": "execute_result"
    },
    {
     "data": {
      "image/png": "[encoded data removed]",
      "text/plain": [
       "<Figure size 432x288 with 1 Axes>"
      ]
     },
     "metadata": {
      "needs_background": "light"
     },
     "output_type": "display_data"
    }
   ],
   "source": [
    "plt.plot(simple_feature_matrix,output,'k.',\n",
    "         simple_feature_matrix,predict_output(simple_feature_matrix, simple_weights_0_penalty),'b-',\n",
    "         simple_feature_matrix,predict_output(simple_feature_matrix, simple_weights_high_penalty),'r-')"
   ]
  },
  {
   "cell_type": "code",
   "execution_count": 118,
   "metadata": {},
   "outputs": [
    {
     "name": "stdout",
     "output_type": "stream",
     "text": [
      "1921392810653287.0\n"
     ]
    }
   ],
   "source": [
    "predictions = predict_output(simple_test_feature_matrix, initial_weights)\n",
    "error = test_output - predictions\n",
    "RSS = np.dot(error,error)\n",
    "\n",
    "print (RSS)"
   ]
  },
  {
   "cell_type": "code",
   "execution_count": 119,
   "metadata": {},
   "outputs": [
    {
     "name": "stdout",
     "output_type": "stream",
     "text": [
      "333674557408232.75\n"
     ]
    }
   ],
   "source": [
    "predictions = predict_output(simple_test_feature_matrix, simple_weights_0_penalty)\n",
    "error = test_output - predictions\n",
    "RSS = np.dot(error,error)\n",
    "\n",
    "print (RSS)"
   ]
  },
  {
   "cell_type": "code",
   "execution_count": 120,
   "metadata": {},
   "outputs": [
    {
     "name": "stdout",
     "output_type": "stream",
     "text": [
      "788643429486470.6\n"
     ]
    }
   ],
   "source": [
    "predictions = predict_output(simple_test_feature_matrix, simple_weights_high_penalty)\n",
    "error = test_output - predictions\n",
    "RSS = np.dot(error,error)\n",
    "\n",
    "print (RSS)"
   ]
  }
 ],
 "metadata": {
  "kernelspec": {
   "display_name": "Python 3",
   "language": "python",
   "name": "python3"
  },
  "language_info": {
   "codemirror_mode": {
    "name": "ipython",
    "version": 3
   },
   "file_extension": ".py",
   "mimetype": "text/x-python",
   "name": "python",
   "nbconvert_exporter": "python",
   "pygments_lexer": "ipython3",
   "version": "3.5.2"
  }
 },
 "nbformat": 4,
 "nbformat_minor": 2
}
