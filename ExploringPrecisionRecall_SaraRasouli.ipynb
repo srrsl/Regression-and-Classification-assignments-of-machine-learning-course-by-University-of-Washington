{
 "cells": [
  {
   "cell_type": "code",
   "execution_count": 1,
   "metadata": {},
   "outputs": [],
   "source": [
    "import json\n",
    "import string\n",
    "import numpy as np\n",
    "import pandas as pd\n",
    "import matplotlib.pyplot as plt\n",
    "from collections import Counter\n",
    "%matplotlib inline\n",
    "\n",
    "from sklearn.metrics import recall_score, accuracy_score, precision_score, confusion_matrix\n",
    "from sklearn.linear_model import LogisticRegression\n",
    "from sklearn.feature_extraction.text import CountVectorizer\n"
   ]
  },
  {
   "cell_type": "code",
   "execution_count": 2,
   "metadata": {},
   "outputs": [],
   "source": [
    "products = pd.read_csv('amazon_baby.csv')\n",
    "products = products.fillna({'review':''})  # fill in N/A's in the review column"
   ]
  },
  {
   "cell_type": "code",
   "execution_count": 3,
   "metadata": {},
   "outputs": [],
   "source": [
    "def remove_punctuation(text):\n",
    "    # define punctuation\n",
    "    punctuations = '''!()-[]{};:'\"\\,<>./?@#$%^&*_~+='''\n",
    "\n",
    "    # remove punctuation from the string\n",
    "    no_punct = \"\"\n",
    "    for char in text:\n",
    "        if char not in punctuations:\n",
    "            no_punct = no_punct + char\n",
    "        else:\n",
    "            no_punct = no_punct + \" \"\n",
    "            \n",
    "    return no_punct"
   ]
  },
  {
   "cell_type": "code",
   "execution_count": 4,
   "metadata": {},
   "outputs": [],
   "source": [
    "index=0\n",
    "review_without_puctuation = pd.Series([])\n",
    "for i in products['review']:\n",
    "    review_without_puctuation[index] = remove_punctuation(i)\n",
    "    index = index + 1\n",
    "\n",
    "products.insert(products.shape[1], \"review_clean\", review_without_puctuation) \n",
    "products = products[products['rating'] != 3]\n",
    "products['sentiment'] = products['rating'].apply(lambda rating : +1 if rating > 3 else -1)"
   ]
  },
  {
   "cell_type": "code",
   "execution_count": 5,
   "metadata": {},
   "outputs": [],
   "source": [
    "#products.to_csv(\"products.csv\", index = False, header = True)      #save to file to use later"
   ]
  },
  {
   "cell_type": "code",
   "execution_count": 6,
   "metadata": {},
   "outputs": [],
   "source": [
    "with open('module-9-assignment-test-idx.json') as test_data_file:    \n",
    "    test_data_idx = json.load(test_data_file)\n",
    "    \n",
    "with open('module-9-assignment-train-idx.json') as train_data_file:    \n",
    "    train_data_idx = json.load(train_data_file)\n",
    "    \n",
    "train_data = products.iloc[train_data_idx]\n",
    "test_data = products.iloc[test_data_idx]"
   ]
  },
  {
   "cell_type": "markdown",
   "metadata": {},
   "source": [
    "Build the word count vector for each review :"
   ]
  },
  {
   "cell_type": "code",
   "execution_count": 7,
   "metadata": {},
   "outputs": [],
   "source": [
    "vectorizer = CountVectorizer(token_pattern=r'\\b\\w+\\b')\n",
    "# Use this token pattern to keep single-letter words\n",
    "# First, learn vocabulary from the training data and assign columns to words\n",
    "# Then convert the training data into a sparse matrix\n",
    "train_matrix = vectorizer.fit_transform(train_data['review_clean'].values.astype('U'))\n",
    "# Second, convert the test data into a sparse matrix, using the same word-column mapping\n",
    "test_matrix = vectorizer.transform(test_data['review_clean'].values.astype('U'))"
   ]
  },
  {
   "cell_type": "markdown",
   "metadata": {},
   "source": [
    "Train a sentiment classifier with logistic regression :"
   ]
  },
  {
   "cell_type": "code",
   "execution_count": 8,
   "metadata": {},
   "outputs": [
    {
     "name": "stderr",
     "output_type": "stream",
     "text": [
      "/usr/local/lib/python3.5/dist-packages/sklearn/linear_model/logistic.py:432: FutureWarning: Default solver will be changed to 'lbfgs' in 0.22. Specify a solver to silence this warning.\n",
      "  FutureWarning)\n",
      "/usr/local/lib/python3.5/dist-packages/sklearn/svm/base.py:929: ConvergenceWarning: Liblinear failed to converge, increase the number of iterations.\n",
      "  \"the number of iterations.\", ConvergenceWarning)\n"
     ]
    },
    {
     "data": {
      "text/plain": [
       "LogisticRegression(C=1.0, class_weight=None, dual=False, fit_intercept=True,\n",
       "                   intercept_scaling=1, l1_ratio=None, max_iter=100,\n",
       "                   multi_class='warn', n_jobs=None, penalty='l2',\n",
       "                   random_state=None, solver='warn', tol=0.0001, verbose=0,\n",
       "                   warm_start=False)"
      ]
     },
     "execution_count": 8,
     "metadata": {},
     "output_type": "execute_result"
    }
   ],
   "source": [
    "model = LogisticRegression()\n",
    "model.fit(train_matrix, train_data['sentiment'].values.astype('U'))"
   ]
  },
  {
   "cell_type": "markdown",
   "metadata": {},
   "source": [
    "Model Evaluation : Accuracy"
   ]
  },
  {
   "cell_type": "code",
   "execution_count": 9,
   "metadata": {},
   "outputs": [
    {
     "name": "stdout",
     "output_type": "stream",
     "text": [
      "Test Accuracy: 0.9324154067674586\n"
     ]
    }
   ],
   "source": [
    "accuracy = accuracy_score(y_true=test_data['sentiment'].to_numpy().astype('U'), y_pred=model.predict(test_matrix))\n",
    "print (\"Test Accuracy: %s\" % accuracy)"
   ]
  },
  {
   "cell_type": "markdown",
   "metadata": {},
   "source": [
    "Baseline: Majority class prediction "
   ]
  },
  {
   "cell_type": "code",
   "execution_count": 10,
   "metadata": {},
   "outputs": [
    {
     "name": "stdout",
     "output_type": "stream",
     "text": [
      "Baseline accuracy (majority class classifier): 0.8427825773938085\n"
     ]
    }
   ],
   "source": [
    "baseline = len(test_data[test_data['sentiment'] == 1])/len(test_data)\n",
    "print (\"Baseline accuracy (majority class classifier): %s\" % baseline)"
   ]
  },
  {
   "cell_type": "markdown",
   "metadata": {},
   "source": [
    "Using accuracy as the evaluation metric, our logistic regression model was better than the baseline (majority class classifier) due to their accuracy: \n",
    "\n",
    "    logistic regression model accuracy : 0.9324154067674586\n",
    "    Baseline                  accuracy : 0.8427825773938085"
   ]
  },
  {
   "cell_type": "markdown",
   "metadata": {},
   "source": [
    "Confusion Matrix :"
   ]
  },
  {
   "cell_type": "code",
   "execution_count": 11,
   "metadata": {},
   "outputs": [
    {
     "name": "stdout",
     "output_type": "stream",
     "text": [
      " target_label | predicted_label | count \n",
      "--------------+-----------------+-------\n",
      "     -1       |       -1        |  3785\n",
      "     -1       |        1        |  1456\n",
      "      1       |       -1        |   797\n",
      "      1       |        1        | 27298\n"
     ]
    }
   ],
   "source": [
    "cmat = confusion_matrix(y_true=test_data['sentiment'].to_numpy().astype('U'),\n",
    "                        y_pred=model.predict(test_matrix),\n",
    "                        labels=model.classes_)    # use the same order of class as the LR model.\n",
    "print (' target_label | predicted_label | count ')\n",
    "print ('--------------+-----------------+-------')\n",
    "# Print out the confusion matrix.\n",
    "# NOTE: Your tool may arrange entries in a different order. Consult appropriate manuals.\n",
    "for i, target_label in enumerate(model.classes_):\n",
    "    for j, predicted_label in enumerate(model.classes_):\n",
    "        print ('{0:^13} | {1:^15} | {2:5d}'.format(target_label, predicted_label, cmat[i,j]))"
   ]
  },
  {
   "cell_type": "markdown",
   "metadata": {},
   "source": [
    "false positives (predicted as positive which is negative) in the test set are : 1456"
   ]
  },
  {
   "cell_type": "markdown",
   "metadata": {},
   "source": [
    "Computing the cost of mistakes :"
   ]
  },
  {
   "cell_type": "code",
   "execution_count": 12,
   "metadata": {},
   "outputs": [
    {
     "name": "stdout",
     "output_type": "stream",
     "text": [
      "the cost associated with the logistic regression classifier's performance on the test set is : 146397\n"
     ]
    }
   ],
   "source": [
    "FP = 1456\n",
    "FN = 797\n",
    "\n",
    "print (\"the cost associated with the logistic regression classifier's performance on the test set is :\", 100*FP +1*FN)"
   ]
  },
  {
   "cell_type": "markdown",
   "metadata": {},
   "source": [
    "Precision and Recall :"
   ]
  },
  {
   "cell_type": "code",
   "execution_count": 13,
   "metadata": {},
   "outputs": [
    {
     "name": "stdout",
     "output_type": "stream",
     "text": [
      "Precision on test data: 0.9493635668080963\n"
     ]
    }
   ],
   "source": [
    "precision = precision_score(y_true=test_data['sentiment'].to_numpy().astype('U'), y_pred=model.predict(test_matrix), pos_label = '1')\n",
    "print (\"Precision on test data: %s\" % precision)"
   ]
  },
  {
   "cell_type": "code",
   "execution_count": 14,
   "metadata": {},
   "outputs": [
    {
     "name": "stdout",
     "output_type": "stream",
     "text": [
      "Out of all reviews in the test set that are predicted to be positive 0.05 of them are false positives.\n"
     ]
    }
   ],
   "source": [
    "print (\"Out of all reviews in the test set that are predicted to be positive {:0.2f} of them are false positives.\".format(1456/(1456+27298)))"
   ]
  },
  {
   "cell_type": "markdown",
   "metadata": {},
   "source": [
    "Based on what we learned in lecture, if we wanted to reduce this fraction of false positives to be below 3.5%, we would limited our positive predictions with lower threshold."
   ]
  },
  {
   "cell_type": "code",
   "execution_count": 15,
   "metadata": {},
   "outputs": [
    {
     "name": "stdout",
     "output_type": "stream",
     "text": [
      "0.9493635668080963 of the positive reviews in the test_set were correctly predicted as positive by the classifier.\n"
     ]
    }
   ],
   "source": [
    "print (\"{} of the positive reviews in the test_set were correctly predicted as positive by the classifier.\".format(27298/(27298+1456)))"
   ]
  },
  {
   "cell_type": "markdown",
   "metadata": {},
   "source": [
    "The recall value for a classifier that predicts +1 for all data points in the test_data is :"
   ]
  },
  {
   "cell_type": "code",
   "execution_count": 16,
   "metadata": {},
   "outputs": [
    {
     "name": "stdout",
     "output_type": "stream",
     "text": [
      "Recall on test data: 0.9716319629827371\n"
     ]
    }
   ],
   "source": [
    "recall = recall_score(y_true=test_data['sentiment'].to_numpy().astype(\"U\"), y_pred=model.predict(test_matrix), pos_label = '1')\n",
    "print (\"Recall on test data: %s\" % recall)"
   ]
  },
  {
   "cell_type": "code",
   "execution_count": 17,
   "metadata": {},
   "outputs": [],
   "source": [
    "def apply_threshold(probabilities, threshold):\n",
    "    \n",
    "    output = []\n",
    "    for i in range(len(probabilities)):\n",
    "        if probabilities[i] < threshold :\n",
    "            output.append(-1)\n",
    "        else:\n",
    "            output.append(1)\n",
    "    return output"
   ]
  },
  {
   "cell_type": "code",
   "execution_count": 18,
   "metadata": {},
   "outputs": [],
   "source": [
    "probabilities = model.predict_proba(test_matrix)[:,1]\n",
    "\n",
    "low_threshold = apply_threshold(probabilities, 0.5)\n",
    "low_dict_counter = Counter(low_threshold)\n",
    "\n",
    "high_threshold = apply_threshold(probabilities, 0.9)\n",
    "high_dict_counter = Counter(high_threshold)"
   ]
  },
  {
   "cell_type": "code",
   "execution_count": 19,
   "metadata": {},
   "outputs": [
    {
     "name": "stdout",
     "output_type": "stream",
     "text": [
      "number of positive predicted reviews at threshold of 0.5 is : 28754\n"
     ]
    }
   ],
   "source": [
    "print (\"number of positive predicted reviews at threshold of 0.5 is :\", low_dict_counter[1])"
   ]
  },
  {
   "cell_type": "code",
   "execution_count": 20,
   "metadata": {},
   "outputs": [
    {
     "name": "stdout",
     "output_type": "stream",
     "text": [
      "number of positive predicted reviews at threshold of 0.9 is : 25002\n"
     ]
    }
   ],
   "source": [
    "print (\"number of positive predicted reviews at threshold of 0.9 is :\", high_dict_counter[1])"
   ]
  },
  {
   "cell_type": "markdown",
   "metadata": {},
   "source": [
    "The number of positive predicted reviews as the threshold increased from 0.5 to 0.9, will decreased."
   ]
  },
  {
   "cell_type": "markdown",
   "metadata": {},
   "source": [
    "Exploring the associated precision and recall as the threshold varies :"
   ]
  },
  {
   "cell_type": "code",
   "execution_count": 21,
   "metadata": {},
   "outputs": [
    {
     "name": "stdout",
     "output_type": "stream",
     "text": [
      "Precision altered from 0.9493635668080963 to 0.9818414526837853\n"
     ]
    }
   ],
   "source": [
    "precision_of_low_threshold = precision_score(y_true=test_data['sentiment'].values, y_pred=low_threshold)\n",
    "precision_of_high_threshold = precision_score(y_true=test_data['sentiment'].values, y_pred=high_threshold)\n",
    "print(\"Precision altered from {} to {}\".format(precision_of_low_threshold, precision_of_high_threshold))"
   ]
  },
  {
   "cell_type": "code",
   "execution_count": 22,
   "metadata": {},
   "outputs": [
    {
     "name": "stdout",
     "output_type": "stream",
     "text": [
      "Recall altered from 0.9716319629827371 to 0.8737497775404877\n"
     ]
    }
   ],
   "source": [
    "recall_of_low_threshold = recall_score(y_true=test_data['sentiment'].values, y_pred=low_threshold, pos_label=1)\n",
    "recall_of_high_threshold = recall_score(y_true=test_data['sentiment'].values, y_pred=high_threshold, pos_label=1)\n",
    "print(\"Recall altered from {} to {}\".format(recall_of_low_threshold, recall_of_high_threshold))"
   ]
  },
  {
   "cell_type": "markdown",
   "metadata": {},
   "source": [
    "So it can seen clearly that precision increase, but recall decrease with a higher threshold."
   ]
  },
  {
   "cell_type": "markdown",
   "metadata": {},
   "source": [
    "Precision-recall curve :"
   ]
  },
  {
   "cell_type": "code",
   "execution_count": 23,
   "metadata": {},
   "outputs": [
    {
     "name": "stdout",
     "output_type": "stream",
     "text": [
      "[0.5        0.50505051 0.51010101 0.51515152 0.52020202 0.52525253\n",
      " 0.53030303 0.53535354 0.54040404 0.54545455 0.55050505 0.55555556\n",
      " 0.56060606 0.56565657 0.57070707 0.57575758 0.58080808 0.58585859\n",
      " 0.59090909 0.5959596  0.6010101  0.60606061 0.61111111 0.61616162\n",
      " 0.62121212 0.62626263 0.63131313 0.63636364 0.64141414 0.64646465\n",
      " 0.65151515 0.65656566 0.66161616 0.66666667 0.67171717 0.67676768\n",
      " 0.68181818 0.68686869 0.69191919 0.6969697  0.7020202  0.70707071\n",
      " 0.71212121 0.71717172 0.72222222 0.72727273 0.73232323 0.73737374\n",
      " 0.74242424 0.74747475 0.75252525 0.75757576 0.76262626 0.76767677\n",
      " 0.77272727 0.77777778 0.78282828 0.78787879 0.79292929 0.7979798\n",
      " 0.8030303  0.80808081 0.81313131 0.81818182 0.82323232 0.82828283\n",
      " 0.83333333 0.83838384 0.84343434 0.84848485 0.85353535 0.85858586\n",
      " 0.86363636 0.86868687 0.87373737 0.87878788 0.88383838 0.88888889\n",
      " 0.89393939 0.8989899  0.9040404  0.90909091 0.91414141 0.91919192\n",
      " 0.92424242 0.92929293 0.93434343 0.93939394 0.94444444 0.94949495\n",
      " 0.95454545 0.95959596 0.96464646 0.96969697 0.97474747 0.97979798\n",
      " 0.98484848 0.98989899 0.99494949 1.        ]\n"
     ]
    }
   ],
   "source": [
    "threshold_values = np.linspace(0.5, 1, num=100)\n",
    "print (threshold_values)"
   ]
  },
  {
   "cell_type": "code",
   "execution_count": 24,
   "metadata": {},
   "outputs": [],
   "source": [
    "def plot_pr_curve(precision, recall, title):\n",
    "    plt.rcParams['figure.figsize'] = 7, 5\n",
    "    plt.locator_params(axis = 'x', nbins = 5)\n",
    "    plt.plot(precision, recall, 'b-', linewidth=4.0, color = '#B0017F')\n",
    "    plt.title(title)\n",
    "    plt.xlabel('Precision')\n",
    "    plt.ylabel('Recall')\n",
    "    plt.rcParams.update({'font.size': 16})"
   ]
  },
  {
   "cell_type": "code",
   "execution_count": 25,
   "metadata": {},
   "outputs": [],
   "source": [
    "precision_all = []\n",
    "recall_all = []\n",
    "\n",
    "probabilities = model.predict_proba(test_matrix)[:,1]\n",
    "for threshold in threshold_values:\n",
    "    predictions = apply_threshold(probabilities, threshold)\n",
    "    \n",
    "    precision = precision_score(y_true=test_data['sentiment'].values, y_pred=predictions)\n",
    "    recall = recall_score(y_true=test_data['sentiment'].values, y_pred=predictions)\n",
    "    \n",
    "    precision_all.append(precision)\n",
    "    recall_all.append(recall)"
   ]
  },
  {
   "cell_type": "code",
   "execution_count": 26,
   "metadata": {},
   "outputs": [
    {
     "data": {
      "image/png": "[encoded data removed]",
      "text/plain": [
       "<Figure size 504x360 with 1 Axes>"
      ]
     },
     "metadata": {
      "needs_background": "light"
     },
     "output_type": "display_data"
    }
   ],
   "source": [
    "plot_pr_curve(precision_all, recall_all, 'Precision recall curve (all)')"
   ]
  },
  {
   "cell_type": "code",
   "execution_count": 27,
   "metadata": {},
   "outputs": [
    {
     "name": "stdout",
     "output_type": "stream",
     "text": [
      "Among all the threshold values tried, the smallest threshold value that achieves a precision of 96.5% or better is 0.702\n"
     ]
    }
   ],
   "source": [
    "print(\"Among all the threshold values tried, the smallest threshold value that achieves a precision of 96.5% or better is {:.3f}\".format(min(np.array(threshold_values)[np.array(precision_all) >= 0.965])))"
   ]
  },
  {
   "cell_type": "code",
   "execution_count": 28,
   "metadata": {},
   "outputs": [
    {
     "name": "stdout",
     "output_type": "stream",
     "text": [
      " target_label | predicted_label | count \n",
      "--------------+-----------------+-------\n",
      "     -1       |       -1        |  5054\n",
      "     -1       |        1        |   187\n",
      "      1       |       -1        |  8358\n",
      "      1       |        1        | 19737\n"
     ]
    }
   ],
   "source": [
    "threshold_98 = apply_threshold(probabilities, 0.98)\n",
    "\n",
    "confusion_matrix_98 = confusion_matrix(y_true=test_data['sentiment'].values,\n",
    "                        y_pred=threshold_98,\n",
    "                        labels=[-1, 1])\n",
    "print (' target_label | predicted_label | count ')\n",
    "print ('--------------+-----------------+-------')\n",
    "\n",
    "for i, target_label in enumerate(model.classes_):\n",
    "    for j, predicted_label in enumerate(model.classes_):\n",
    "        print ('{0:^13} | {1:^15} | {2:5d}'.format(target_label, predicted_label, confusion_matrix_98[i,j]))"
   ]
  },
  {
   "cell_type": "markdown",
   "metadata": {},
   "source": [
    "Using threshold = 0.98, there are 8358 false negatives on the test_data."
   ]
  },
  {
   "cell_type": "markdown",
   "metadata": {},
   "source": [
    "Precision-Recall on all baby related items :"
   ]
  },
  {
   "cell_type": "code",
   "execution_count": 31,
   "metadata": {},
   "outputs": [
    {
     "data": {
      "image/png": "[encoded data removed]",
      "text/plain": [
       "<Figure size 504x360 with 1 Axes>"
      ]
     },
     "metadata": {
      "needs_background": "light"
     },
     "output_type": "display_data"
    }
   ],
   "source": [
    "baby_reviews =  test_data[test_data['name'].apply(lambda x: 'baby' in str(x).lower())]\n",
    "baby_matrix = vectorizer.transform(baby_reviews['review_clean'])\n",
    "\n",
    "probabilities = model.predict_proba(baby_matrix)[:,1]\n",
    "\n",
    "threshold_values = np.linspace(0.5, 1, num=100)\n",
    "\n",
    "precision_all = []\n",
    "recall_all = []\n",
    "for threshold in threshold_values:\n",
    "    \n",
    "    predictions = apply_threshold(probabilities, threshold)\n",
    "\n",
    "    precision = precision_score(y_true=baby_reviews['sentiment'].values, y_pred=predictions)\n",
    "    recall = recall_score(y_true=baby_reviews['sentiment'].values, y_pred=predictions)\n",
    "    \n",
    "    precision_all.append(precision)\n",
    "    recall_all.append(recall)\n",
    "    \n",
    "plot_pr_curve(precision_all, recall_all, \"Precision-Recall (Baby)\")"
   ]
  },
  {
   "cell_type": "code",
   "execution_count": 32,
   "metadata": {},
   "outputs": [
    {
     "name": "stdout",
     "output_type": "stream",
     "text": [
      "Among all the threshold values tried, the smallest threshold value that achieves a precision of 96.5% or better is 0.742\n"
     ]
    }
   ],
   "source": [
    "print(\"Among all the threshold values tried, the smallest threshold value that achieves a precision of 96.5% or better is {:.3f}\".format(min(np.array(threshold_values)[np.array(precision_all) >= 0.965])))"
   ]
  }
 ],
 "metadata": {
  "kernelspec": {
   "display_name": "Python 3",
   "language": "python",
   "name": "python3"
  },
  "language_info": {
   "codemirror_mode": {
    "name": "ipython",
    "version": 3
   },
   "file_extension": ".py",
   "mimetype": "text/x-python",
   "name": "python",
   "nbconvert_exporter": "python",
   "pygments_lexer": "ipython3",
   "version": "3.5.2"
  }
 },
 "nbformat": 4,
 "nbformat_minor": 2
}
