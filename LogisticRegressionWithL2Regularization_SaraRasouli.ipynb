{
 "cells": [
  {
   "cell_type": "code",
   "execution_count": 80,
   "metadata": {},
   "outputs": [],
   "source": [
    "import pandas as pd\n",
    "import numpy as np\n",
    "import json\n",
    "import matplotlib.pyplot as plt\n",
    "%matplotlib inline"
   ]
  },
  {
   "cell_type": "code",
   "execution_count": 81,
   "metadata": {},
   "outputs": [],
   "source": [
    "products = pd.read_csv('amazon_baby_subset.csv')"
   ]
  },
  {
   "cell_type": "code",
   "execution_count": 82,
   "metadata": {},
   "outputs": [],
   "source": [
    "def remove_punctuation(text):\n",
    "    # define punctuation\n",
    "    punctuations = '''!()-[]{};:'\"\\,<>./?@#$%^&*_~+='''\n",
    "\n",
    "    # remove punctuation from the string\n",
    "    no_punct = \"\"\n",
    "    for char in text:\n",
    "        if char not in punctuations:\n",
    "            no_punct = no_punct + char\n",
    "        else:\n",
    "            no_punct = no_punct + \" \"\n",
    "            \n",
    "    return no_punct"
   ]
  },
  {
   "cell_type": "code",
   "execution_count": 83,
   "metadata": {},
   "outputs": [],
   "source": [
    "products = products.fillna({'review':''})  # fill in N/A's in the review column"
   ]
  },
  {
   "cell_type": "code",
   "execution_count": 84,
   "metadata": {},
   "outputs": [],
   "source": [
    "index=0\n",
    "review_without_puctuation = pd.Series([])\n",
    "for i in products['review']:\n",
    "    review_without_puctuation[index] = remove_punctuation(i)\n",
    "    index += 1\n",
    "\n",
    "products.insert(products.shape[1], \"review_clean\", review_without_puctuation) "
   ]
  },
  {
   "cell_type": "code",
   "execution_count": 85,
   "metadata": {},
   "outputs": [],
   "source": [
    "with open('important_words.json') as important_words_file:    \n",
    "    important_words = json.load(important_words_file)\n",
    "\n",
    "for word in important_words:\n",
    "    products[word] = products['review_clean'].apply(lambda s : s.split().count(word))"
   ]
  },
  {
   "cell_type": "code",
   "execution_count": 86,
   "metadata": {},
   "outputs": [],
   "source": [
    "with open('module-4-assignment-train-idx.json') as train_data_file:    \n",
    "    train_data_idx = json.load(train_data_file)\n",
    "with open('module-4-assignment-validation-idx.json') as validation_data_file:    \n",
    "    validation_data_idx = json.load(validation_data_file)\n",
    "\n",
    "train_data = products.iloc[train_data_idx]\n",
    "validation_data = products.iloc[validation_data_idx]"
   ]
  },
  {
   "cell_type": "code",
   "execution_count": 87,
   "metadata": {},
   "outputs": [],
   "source": [
    "def get_numpy_data(dataframe, features, label):\n",
    "    dataframe['constant'] = 1\n",
    "    features = ['constant'] + features\n",
    "    features_frame = dataframe[features]\n",
    "    feature_matrix = features_frame.values\n",
    "    label_sarray = dataframe[label]\n",
    "    label_array = label_sarray.values\n",
    "    return(feature_matrix, label_array)"
   ]
  },
  {
   "cell_type": "code",
   "execution_count": 88,
   "metadata": {},
   "outputs": [
    {
     "name": "stderr",
     "output_type": "stream",
     "text": [
      "/usr/local/lib/python3.5/dist-packages/ipykernel_launcher.py:2: SettingWithCopyWarning: \n",
      "A value is trying to be set on a copy of a slice from a DataFrame.\n",
      "Try using .loc[row_indexer,col_indexer] = value instead\n",
      "\n",
      "See the caveats in the documentation: http://pandas.pydata.org/pandas-docs/stable/indexing.html#indexing-view-versus-copy\n",
      "  \n"
     ]
    }
   ],
   "source": [
    "feature_matrix_train, sentiment_train = get_numpy_data(train_data, important_words, 'sentiment')\n",
    "feature_matrix_valid, sentiment_valid = get_numpy_data(validation_data, important_words, 'sentiment')"
   ]
  },
  {
   "cell_type": "code",
   "execution_count": 89,
   "metadata": {},
   "outputs": [],
   "source": [
    "def predict_probability(feature_matrix, coefficients):\n",
    "    \n",
    "    score = np.dot(feature_matrix, coefficients) \n",
    "    predictions = 1.0/(1+np.exp(-score))\n",
    "    \n",
    "    return predictions"
   ]
  },
  {
   "cell_type": "code",
   "execution_count": 90,
   "metadata": {},
   "outputs": [],
   "source": [
    "def feature_derivative_with_L2(errors, feature, coefficient, l2_penalty, feature_is_constant): \n",
    "    \n",
    "    derivative = np.dot(np.transpose(errors), feature)\n",
    "\n",
    "    if not feature_is_constant: \n",
    "        derivative -= 2 * l2_penalty * coefficient\n",
    "        \n",
    "    return derivative"
   ]
  },
  {
   "cell_type": "markdown",
   "metadata": {},
   "source": [
    "The intercept term in the above function is not regularized"
   ]
  },
  {
   "cell_type": "code",
   "execution_count": 91,
   "metadata": {},
   "outputs": [],
   "source": [
    "def compute_log_likelihood_with_L2(feature_matrix, sentiment, coefficients, l2_penalty):\n",
    "    indicator = (sentiment==+1)\n",
    "    scores = np.dot(feature_matrix, coefficients)\n",
    "    \n",
    "    lp = np.sum((np.transpose(np.array([indicator]))-1)*scores - np.log(1. + np.exp(-scores))) - l2_penalty*np.sum(coefficients[1:]**2)\n",
    "    \n",
    "    return lp"
   ]
  },
  {
   "cell_type": "markdown",
   "metadata": {},
   "source": [
    "The term with L2 regularization decrease ℓℓ(w)"
   ]
  },
  {
   "cell_type": "code",
   "execution_count": 92,
   "metadata": {},
   "outputs": [],
   "source": [
    "def logistic_regression_with_L2(feature_matrix, sentiment, initial_coefficients, step_size, l2_penalty, max_iter):\n",
    "    coefficients = np.array(initial_coefficients) # make sure it's a numpy array\n",
    "    for itr in range(max_iter):\n",
    "        # Predict P(y_i = +1|x_i,w) using your predict_probability() function\n",
    "        predictions = predict_probability(feature_matrix, coefficients)\n",
    "        \n",
    "        # Compute indicator value for (y_i = +1)\n",
    "        indicator = (sentiment==+1)\n",
    "        \n",
    "        # Compute the errors as indicator - predictions\n",
    "        errors = np.transpose(np.array([indicator])) - predictions\n",
    "        for j in range(len(coefficients)): # loop over each coefficient\n",
    "            is_intercept = (j == 0)\n",
    "            # Recall that feature_matrix[:,j] is the feature column associated with coefficients[j].\n",
    "            # Compute the derivative for coefficients[j]. Save it in a variable called derivative\n",
    "            derivative = feature_derivative_with_L2(errors, feature_matrix[:,j], coefficients[j], l2_penalty, is_intercept)\n",
    "            \n",
    "            # add the step size times the derivative to the current coefficient\n",
    "            coefficients[j] += step_size*derivative\n",
    "        \n",
    "        # Checking whether log likelihood is increasing\n",
    "        if itr <= 15 or (itr <= 100 and itr % 10 == 0) or (itr <= 1000 and itr % 100 == 0) \\\n",
    "        or (itr <= 10000 and itr % 1000 == 0) or itr % 10000 == 0:\n",
    "            lp = compute_log_likelihood_with_L2(feature_matrix, sentiment, coefficients, l2_penalty)\n",
    "            print ('iteration %*d: log likelihood of observed labels = %.8f' % \\\n",
    "                (int(np.ceil(np.log10(max_iter))), itr, lp))\n",
    "    return coefficients"
   ]
  },
  {
   "cell_type": "code",
   "execution_count": 93,
   "metadata": {},
   "outputs": [],
   "source": [
    "initial_coefficients = np.zeros((194,1))\n",
    "step_size = 5e-6\n",
    "max_iter = 501"
   ]
  },
  {
   "cell_type": "code",
   "execution_count": 95,
   "metadata": {},
   "outputs": [
    {
     "name": "stdout",
     "output_type": "stream",
     "text": [
      "iteration   0: log likelihood of observed labels = -29174.46050205\n",
      "iteration   1: log likelihood of observed labels = -28994.25530408\n",
      "iteration   2: log likelihood of observed labels = -28821.00887189\n",
      "iteration   3: log likelihood of observed labels = -28654.14559309\n",
      "iteration   4: log likelihood of observed labels = -28493.21621683\n",
      "iteration   5: log likelihood of observed labels = -28337.85105525\n",
      "iteration   6: log likelihood of observed labels = -28187.73285381\n",
      "iteration   7: log likelihood of observed labels = -28042.58082880\n",
      "iteration   8: log likelihood of observed labels = -27902.14107563\n",
      "iteration   9: log likelihood of observed labels = -27766.18064748\n",
      "iteration  10: log likelihood of observed labels = -27634.48377157\n",
      "iteration  11: log likelihood of observed labels = -27506.84932458\n",
      "iteration  12: log likelihood of observed labels = -27383.08905915\n",
      "iteration  13: log likelihood of observed labels = -27263.02628654\n",
      "iteration  14: log likelihood of observed labels = -27146.49484325\n",
      "iteration  15: log likelihood of observed labels = -27033.33824073\n",
      "iteration  20: log likelihood of observed labels = -26513.29314637\n",
      "iteration  30: log likelihood of observed labels = -25657.41209417\n",
      "iteration  40: log likelihood of observed labels = -24980.41497297\n",
      "iteration  50: log likelihood of observed labels = -24429.71011954\n",
      "iteration  60: log likelihood of observed labels = -23971.62571969\n",
      "iteration  70: log likelihood of observed labels = -23583.63943224\n",
      "iteration  80: log likelihood of observed labels = -23250.11251977\n",
      "iteration  90: log likelihood of observed labels = -22959.83384044\n",
      "iteration 100: log likelihood of observed labels = -22704.54370898\n",
      "iteration 200: log likelihood of observed labels = -21189.45493370\n",
      "iteration 300: log likelihood of observed labels = -20477.80093090\n",
      "iteration 400: log likelihood of observed labels = -20060.33007509\n",
      "iteration 500: log likelihood of observed labels = -19786.05334843\n"
     ]
    }
   ],
   "source": [
    "coefficients_0_penalty = logistic_regression_with_L2(feature_matrix_train , sentiment_train , initial_coefficients, step_size, 0, max_iter)"
   ]
  },
  {
   "cell_type": "code",
   "execution_count": 96,
   "metadata": {},
   "outputs": [
    {
     "name": "stdout",
     "output_type": "stream",
     "text": [
      "iteration   0: log likelihood of observed labels = -29174.46430167\n",
      "iteration   1: log likelihood of observed labels = -28994.27745587\n",
      "iteration   2: log likelihood of observed labels = -28821.06276989\n",
      "iteration   3: log likelihood of observed labels = -28654.24363196\n",
      "iteration   4: log likelihood of observed labels = -28493.36990141\n",
      "iteration   5: log likelihood of observed labels = -28338.07108343\n",
      "iteration   6: log likelihood of observed labels = -28188.02918408\n",
      "iteration   7: log likelihood of observed labels = -28042.96273851\n",
      "iteration   8: log likelihood of observed labels = -27902.61721297\n",
      "iteration   9: log likelihood of observed labels = -27766.75907857\n",
      "iteration  10: log likelihood of observed labels = -27635.17202366\n",
      "iteration  11: log likelihood of observed labels = -27507.65442565\n",
      "iteration  12: log likelihood of observed labels = -27384.01757446\n",
      "iteration  13: log likelihood of observed labels = -27264.08435217\n",
      "iteration  14: log likelihood of observed labels = -27147.68819694\n",
      "iteration  15: log likelihood of observed labels = -27034.67225032\n",
      "iteration  20: log likelihood of observed labels = -26515.39972080\n",
      "iteration  30: log likelihood of observed labels = -25661.31338658\n",
      "iteration  40: log likelihood of observed labels = -24986.30955026\n",
      "iteration  50: log likelihood of observed labels = -24437.70130535\n",
      "iteration  60: log likelihood of observed labels = -23981.76265068\n",
      "iteration  70: log likelihood of observed labels = -23595.93896154\n",
      "iteration  80: log likelihood of observed labels = -23264.57160697\n",
      "iteration  90: log likelihood of observed labels = -22976.43690489\n",
      "iteration 100: log likelihood of observed labels = -22723.26717183\n",
      "iteration 200: log likelihood of observed labels = -21227.56187035\n",
      "iteration 300: log likelihood of observed labels = -20532.09086652\n",
      "iteration 400: log likelihood of observed labels = -20128.30251944\n",
      "iteration 500: log likelihood of observed labels = -19865.78131537\n"
     ]
    }
   ],
   "source": [
    "coefficients_4_penalty = logistic_regression_with_L2(feature_matrix_train , sentiment_train , initial_coefficients, step_size, 4, max_iter)"
   ]
  },
  {
   "cell_type": "code",
   "execution_count": 97,
   "metadata": {},
   "outputs": [
    {
     "name": "stdout",
     "output_type": "stream",
     "text": [
      "iteration   0: log likelihood of observed labels = -29174.47000111\n",
      "iteration   1: log likelihood of observed labels = -28994.31068132\n",
      "iteration   2: log likelihood of observed labels = -28821.14360602\n",
      "iteration   3: log likelihood of observed labels = -28654.39066072\n",
      "iteration   4: log likelihood of observed labels = -28493.60036677\n",
      "iteration   5: log likelihood of observed labels = -28338.40101595\n",
      "iteration   6: log likelihood of observed labels = -28188.47350264\n",
      "iteration   7: log likelihood of observed labels = -28043.53533795\n",
      "iteration   8: log likelihood of observed labels = -27903.33104225\n",
      "iteration   9: log likelihood of observed labels = -27767.62621169\n",
      "iteration  10: log likelihood of observed labels = -27636.20372459\n",
      "iteration  11: log likelihood of observed labels = -27508.86120801\n",
      "iteration  12: log likelihood of observed labels = -27385.40925639\n",
      "iteration  13: log likelihood of observed labels = -27265.67010682\n",
      "iteration  14: log likelihood of observed labels = -27149.47659891\n",
      "iteration  15: log likelihood of observed labels = -27036.67131834\n",
      "iteration  20: log likelihood of observed labels = -26518.55552444\n",
      "iteration  30: log likelihood of observed labels = -25667.15422995\n",
      "iteration  40: log likelihood of observed labels = -24995.12933717\n",
      "iteration  50: log likelihood of observed labels = -24449.65103667\n",
      "iteration  60: log likelihood of observed labels = -23996.91211384\n",
      "iteration  70: log likelihood of observed labels = -23614.30963180\n",
      "iteration  80: log likelihood of observed labels = -23286.15525197\n",
      "iteration  90: log likelihood of observed labels = -23001.20662185\n",
      "iteration 100: log likelihood of observed labels = -22751.18420140\n",
      "iteration 200: log likelihood of observed labels = -21284.06261452\n",
      "iteration 300: log likelihood of observed labels = -20612.15545422\n",
      "iteration 400: log likelihood of observed labels = -20228.03092015\n",
      "iteration 500: log likelihood of observed labels = -19982.18010440\n"
     ]
    }
   ],
   "source": [
    "coefficients_10_penalty = logistic_regression_with_L2(feature_matrix_train , sentiment_train , initial_coefficients, step_size, 10, max_iter)"
   ]
  },
  {
   "cell_type": "code",
   "execution_count": 98,
   "metadata": {},
   "outputs": [
    {
     "name": "stdout",
     "output_type": "stream",
     "text": [
      "iteration   0: log likelihood of observed labels = -29174.55549265\n",
      "iteration   1: log likelihood of observed labels = -28994.80874018\n",
      "iteration   2: log likelihood of observed labels = -28822.35458443\n",
      "iteration   3: log likelihood of observed labels = -28656.59184414\n",
      "iteration   4: log likelihood of observed labels = -28497.04850335\n",
      "iteration   5: log likelihood of observed labels = -28343.33423540\n",
      "iteration   6: log likelihood of observed labels = -28195.11288651\n",
      "iteration   7: log likelihood of observed labels = -28052.08627470\n",
      "iteration   8: log likelihood of observed labels = -27913.98443507\n",
      "iteration   9: log likelihood of observed labels = -27780.55957438\n",
      "iteration  10: log likelihood of observed labels = -27651.58218425\n",
      "iteration  11: log likelihood of observed labels = -27526.83842564\n",
      "iteration  12: log likelihood of observed labels = -27406.12827306\n",
      "iteration  13: log likelihood of observed labels = -27289.26412143\n",
      "iteration  14: log likelihood of observed labels = -27176.06968304\n",
      "iteration  15: log likelihood of observed labels = -27066.37907316\n",
      "iteration  20: log likelihood of observed labels = -26565.31383567\n",
      "iteration  30: log likelihood of observed labels = -25753.19221347\n",
      "iteration  40: log likelihood of observed labels = -25124.30794484\n",
      "iteration  50: log likelihood of observed labels = -24623.69053359\n",
      "iteration  60: log likelihood of observed labels = -24216.33222448\n",
      "iteration  70: log likelihood of observed labels = -23878.92922568\n",
      "iteration  80: log likelihood of observed labels = -23595.37375989\n",
      "iteration  90: log likelihood of observed labels = -23354.17013050\n",
      "iteration 100: log likelihood of observed labels = -23146.88729161\n",
      "iteration 200: log likelihood of observed labels = -22045.54577664\n",
      "iteration 300: log likelihood of observed labels = -21642.91801032\n",
      "iteration 400: log likelihood of observed labels = -21459.65237200\n",
      "iteration 500: log likelihood of observed labels = -21366.41301930\n"
     ]
    }
   ],
   "source": [
    "coefficients_1e2_penalty = logistic_regression_with_L2(feature_matrix_train , sentiment_train , initial_coefficients, step_size, 1e2, max_iter)"
   ]
  },
  {
   "cell_type": "code",
   "execution_count": 99,
   "metadata": {},
   "outputs": [
    {
     "name": "stdout",
     "output_type": "stream",
     "text": [
      "iteration   0: log likelihood of observed labels = -29175.41040801\n",
      "iteration   1: log likelihood of observed labels = -28999.75611988\n",
      "iteration   2: log likelihood of observed labels = -28834.30433785\n",
      "iteration   3: log likelihood of observed labels = -28678.17107476\n",
      "iteration   4: log likelihood of observed labels = -28530.63370186\n",
      "iteration   5: log likelihood of observed labels = -28391.07643622\n",
      "iteration   6: log likelihood of observed labels = -28258.95862261\n",
      "iteration   7: log likelihood of observed labels = -28133.79577908\n",
      "iteration   8: log likelihood of observed labels = -28015.14784444\n",
      "iteration   9: log likelihood of observed labels = -27902.61154414\n",
      "iteration  10: log likelihood of observed labels = -27795.81515405\n",
      "iteration  11: log likelihood of observed labels = -27694.41469296\n",
      "iteration  12: log likelihood of observed labels = -27598.09099328\n",
      "iteration  13: log likelihood of observed labels = -27506.54733374\n",
      "iteration  14: log likelihood of observed labels = -27419.50745030\n",
      "iteration  15: log likelihood of observed labels = -27336.71381645\n",
      "iteration  20: log likelihood of observed labels = -26978.55905576\n",
      "iteration  30: log likelihood of observed labels = -26472.32123504\n",
      "iteration  40: log likelihood of observed labels = -26148.54279581\n",
      "iteration  50: log likelihood of observed labels = -25936.29609305\n",
      "iteration  60: log likelihood of observed labels = -25794.43040747\n",
      "iteration  70: log likelihood of observed labels = -25698.10769866\n",
      "iteration  80: log likelihood of observed labels = -25631.85638474\n",
      "iteration  90: log likelihood of observed labels = -25585.79127768\n",
      "iteration 100: log likelihood of observed labels = -25553.46393547\n",
      "iteration 200: log likelihood of observed labels = -25474.97834050\n",
      "iteration 300: log likelihood of observed labels = -25471.37771457\n",
      "iteration 400: log likelihood of observed labels = -25471.15946497\n",
      "iteration 500: log likelihood of observed labels = -25471.14403710\n"
     ]
    }
   ],
   "source": [
    "coefficients_1e3_penalty = logistic_regression_with_L2(feature_matrix_train , sentiment_train , initial_coefficients, step_size, 1e3, max_iter)"
   ]
  },
  {
   "cell_type": "code",
   "execution_count": 100,
   "metadata": {},
   "outputs": [
    {
     "name": "stdout",
     "output_type": "stream",
     "text": [
      "iteration   0: log likelihood of observed labels = -29269.45109767\n",
      "iteration   1: log likelihood of observed labels = -29269.28986723\n",
      "iteration   2: log likelihood of observed labels = -29269.23512895\n",
      "iteration   3: log likelihood of observed labels = -29269.18831829\n",
      "iteration   4: log likelihood of observed labels = -29269.14604324\n",
      "iteration   5: log likelihood of observed labels = -29269.10774959\n",
      "iteration   6: log likelihood of observed labels = -29269.07305673\n",
      "iteration   7: log likelihood of observed labels = -29269.04162581\n",
      "iteration   8: log likelihood of observed labels = -29269.01315010\n",
      "iteration   9: log likelihood of observed labels = -29268.98735176\n",
      "iteration  10: log likelihood of observed labels = -29268.96397905\n",
      "iteration  11: log likelihood of observed labels = -29268.94280390\n",
      "iteration  12: log likelihood of observed labels = -29268.92361969\n",
      "iteration  13: log likelihood of observed labels = -29268.90623923\n",
      "iteration  14: log likelihood of observed labels = -29268.89049293\n",
      "iteration  15: log likelihood of observed labels = -29268.87622713\n",
      "iteration  20: log likelihood of observed labels = -29268.82266675\n",
      "iteration  30: log likelihood of observed labels = -29268.77002205\n",
      "iteration  40: log likelihood of observed labels = -29268.75040965\n",
      "iteration  50: log likelihood of observed labels = -29268.74310318\n",
      "iteration  60: log likelihood of observed labels = -29268.74038119\n",
      "iteration  70: log likelihood of observed labels = -29268.73936713\n",
      "iteration  80: log likelihood of observed labels = -29268.73898935\n",
      "iteration  90: log likelihood of observed labels = -29268.73884860\n",
      "iteration 100: log likelihood of observed labels = -29268.73879617\n",
      "iteration 200: log likelihood of observed labels = -29268.73876504\n",
      "iteration 300: log likelihood of observed labels = -29268.73876504\n",
      "iteration 400: log likelihood of observed labels = -29268.73876504\n",
      "iteration 500: log likelihood of observed labels = -29268.73876504\n"
     ]
    }
   ],
   "source": [
    "coefficients_1e5_penalty = logistic_regression_with_L2(feature_matrix_train , sentiment_train , initial_coefficients, step_size, 1e5, max_iter)"
   ]
  },
  {
   "cell_type": "code",
   "execution_count": 101,
   "metadata": {},
   "outputs": [],
   "source": [
    "coefficients_0_penalty_without_intercept = list(coefficients_0_penalty[1:]) # exclude intercept\n",
    "word_coefficient_tuples = [(word, coefficient) for word, coefficient in zip(important_words, coefficients_0_penalty_without_intercept)]\n",
    "word_coefficient_tuples = sorted(word_coefficient_tuples, key=lambda x:x[1], reverse=True)"
   ]
  },
  {
   "cell_type": "code",
   "execution_count": 102,
   "metadata": {},
   "outputs": [
    {
     "data": {
      "text/plain": [
       "['love', 'loves', 'easy', 'perfect', 'great']"
      ]
     },
     "execution_count": 102,
     "metadata": {},
     "output_type": "execute_result"
    }
   ],
   "source": [
    "positive_words = []\n",
    "for i in range(5):\n",
    "    positive_words.append(word_coefficient_tuples[:5][i][0])\n",
    "positive_words"
   ]
  },
  {
   "cell_type": "code",
   "execution_count": 103,
   "metadata": {},
   "outputs": [
    {
     "data": {
      "text/plain": [
       "['returned', 'waste', 'return', 'money', 'disappointed']"
      ]
     },
     "execution_count": 103,
     "metadata": {},
     "output_type": "execute_result"
    }
   ],
   "source": [
    "negative_words = []\n",
    "for i in range(5):\n",
    "    negative_words.append(word_coefficient_tuples[-5:][i][0])\n",
    "negative_words"
   ]
  },
  {
   "cell_type": "code",
   "execution_count": 104,
   "metadata": {},
   "outputs": [],
   "source": [
    "table = pd.DataFrame(data=[coefficients_0_penalty.flatten(), coefficients_4_penalty.flatten(), coefficients_10_penalty.flatten(), coefficients_1e2_penalty.flatten(), coefficients_1e3_penalty.flatten(), coefficients_1e5_penalty.flatten()], \n",
    "                     index=[0, 4, 10, 100.0, 1000.0, 100000.0],\n",
    "                     columns=['(intercept)'] + important_words)"
   ]
  },
  {
   "cell_type": "code",
   "execution_count": 105,
   "metadata": {},
   "outputs": [
    {
     "data": {
      "image/png": "[encoded data removed]",
      "text/plain": [
       "<Figure size 720x432 with 1 Axes>"
      ]
     },
     "metadata": {
      "needs_background": "light"
     },
     "output_type": "display_data"
    }
   ],
   "source": [
    "plt.rcParams['figure.figsize'] = 10, 6\n",
    "\n",
    "def make_coefficient_plot(table, positive_words, negative_words, l2_penalty_list):\n",
    "    cmap_positive = plt.get_cmap('Reds')\n",
    "    cmap_negative = plt.get_cmap('Blues')\n",
    "    \n",
    "    xx = l2_penalty_list\n",
    "    plt.plot(xx, [0.]*len(xx), '--', lw=1, color='k')\n",
    "    \n",
    "    \n",
    "    table_positive_words = table[positive_words] \n",
    "    table_negative_words = table[negative_words]\n",
    "    #del table_positive_words['word']\n",
    "    #del table_negative_words['word']\n",
    "    \n",
    "    for i, value in enumerate(positive_words):\n",
    "        color = cmap_positive(0.8*((i+1)/(len(positive_words)*1.2)+0.15))\n",
    "        plt.plot(xx, table_positive_words[value].values.flatten(),\n",
    "                 '-', label=positive_words[i], linewidth=4.0, color=color)\n",
    "        \n",
    "    for i, value in enumerate(negative_words):\n",
    "        color = cmap_negative(0.8*((i+1)/(len(negative_words)*1.2)+0.15))\n",
    "        plt.plot(xx, table_negative_words[value].values.flatten(),\n",
    "                 '-', label=negative_words[i], linewidth=4.0, color=color)\n",
    "        \n",
    "    plt.legend(loc='best', ncol=3, prop={'size':16}, columnspacing=0.5)\n",
    "    plt.axis([1, 1e5, -1, 2])\n",
    "    plt.title('Coefficient path')\n",
    "    plt.xlabel('L2 penalty ($\\lambda$)')\n",
    "    plt.ylabel('Coefficient value')\n",
    "    plt.xscale('log')\n",
    "    plt.rcParams.update({'font.size': 18})\n",
    "    plt.tight_layout()\n",
    "\n",
    "\n",
    "make_coefficient_plot(table, positive_words, negative_words, l2_penalty_list=[0, 4, 10, 1e2, 1e3, 1e5])"
   ]
  },
  {
   "cell_type": "markdown",
   "metadata": {},
   "source": [
    "So All coefficients consistently get smaller in size as L2 penalty is increased."
   ]
  },
  {
   "cell_type": "code",
   "execution_count": 106,
   "metadata": {},
   "outputs": [
    {
     "data": {
      "image/png": "[encoded data removed]",
      "text/plain": [
       "<Figure size 720x432 with 1 Axes>"
      ]
     },
     "metadata": {
      "needs_background": "light"
     },
     "output_type": "display_data"
    }
   ],
   "source": [
    "training_accuracy = []\n",
    "for coefficient in [coefficients_0_penalty, coefficients_4_penalty, coefficients_10_penalty, coefficients_1e2_penalty, coefficients_1e3_penalty, coefficients_1e5_penalty]:\n",
    "    predictions = predict_probability(feature_matrix_train, coefficient)\n",
    "    correct_num = np.sum((np.transpose(predictions.flatten())> 0.5) == (np.array(sentiment_train)>0))\n",
    "    total_num = len(sentiment_train)\n",
    "    #print \"correct_num: {}, total_num: {}\".format(correct_num, total_num)\n",
    "    training_accuracy.append(correct_num * 1./ total_num)\n",
    "    #print accuracy\n",
    "l2_penalty_list=[x for x in range(6)]\n",
    "plt.plot(l2_penalty_list, training_accuracy,'ro')\n",
    "plt.title('training_accuracy')\n",
    "plt.xlabel('L2 penalty ($\\lambda$)')\n",
    "plt.ylabel('training_accuracy')\n",
    "plt.show()"
   ]
  },
  {
   "cell_type": "code",
   "execution_count": 107,
   "metadata": {},
   "outputs": [
    {
     "name": "stdout",
     "output_type": "stream",
     "text": [
      " Model (L2 = 0) has the highest accuracy on the training data with training accuracy of 0.786407308609334\n"
     ]
    }
   ],
   "source": [
    "print(\" Model (L2 = {}) has the highest accuracy on the training data with training accuracy of {}\".format([0, 4, 10, 1e2, 1e3, 1e5][training_accuracy.index(max(training_accuracy))] , training_accuracy[training_accuracy.index(max(training_accuracy))]))"
   ]
  },
  {
   "cell_type": "code",
   "execution_count": 108,
   "metadata": {},
   "outputs": [
    {
     "data": {
      "image/png": "[encoded data removed]",
      "text/plain": [
       "<Figure size 720x432 with 1 Axes>"
      ]
     },
     "metadata": {
      "needs_background": "light"
     },
     "output_type": "display_data"
    }
   ],
   "source": [
    "vali_accuracy = []\n",
    "for coefficient in [coefficients_0_penalty, coefficients_4_penalty, coefficients_10_penalty, coefficients_1e2_penalty, coefficients_1e3_penalty, coefficients_1e5_penalty]:\n",
    "    predictions = predict_probability(feature_matrix_valid, coefficient)  \n",
    "    correct_num = np.sum((np.transpose(predictions.flatten())> 0.5) == (np.array(sentiment_valid)>0))\n",
    "    total_num = len(sentiment_valid)\n",
    "    #print \"correct_num: {}, total_num: {}\".format(correct_num, total_num)\n",
    "    vali_accuracy.append(correct_num * 1./ total_num)\n",
    "    #print accuracy\n",
    "l2_penalty_list=[x for x in range(6)]\n",
    "plt.plot(l2_penalty_list, vali_accuracy,'ro')\n",
    "plt.title('vali_accuracy')\n",
    "plt.xlabel('L2 penalty ($\\lambda$)')\n",
    "plt.ylabel('vali_accuracy')\n",
    "plt.show()"
   ]
  },
  {
   "cell_type": "code",
   "execution_count": 109,
   "metadata": {},
   "outputs": [
    {
     "name": "stdout",
     "output_type": "stream",
     "text": [
      "model (L2 = 10) has the highest accuracy on the validation data with validation accuracy of 0.7819064513117356\n"
     ]
    }
   ],
   "source": [
    "print(\"model (L2 = {}) has the highest accuracy on the validation data with validation accuracy of {}\".format([0, 4, 10, 1e2, 1e3, 1e5][vali_accuracy.index(max(vali_accuracy))] , vali_accuracy[vali_accuracy.index(max(vali_accuracy))]))"
   ]
  },
  {
   "cell_type": "markdown",
   "metadata": {},
   "source": [
    "At the end highest accuracy on the training data does not imply that the model is the best one"
   ]
  }
 ],
 "metadata": {
  "kernelspec": {
   "display_name": "Python 3",
   "language": "python",
   "name": "python3"
  },
  "language_info": {
   "codemirror_mode": {
    "name": "ipython",
    "version": 3
   },
   "file_extension": ".py",
   "mimetype": "text/x-python",
   "name": "python",
   "nbconvert_exporter": "python",
   "pygments_lexer": "ipython3",
   "version": "3.5.2"
  }
 },
 "nbformat": 4,
 "nbformat_minor": 2
}
